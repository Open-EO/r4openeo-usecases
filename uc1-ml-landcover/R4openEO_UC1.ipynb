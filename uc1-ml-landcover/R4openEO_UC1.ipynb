{
 "cells": [
  {
   "cell_type": "markdown",
   "id": "641a1bc7-e471-413c-8c71-32defad38be6",
   "metadata": {},
   "source": [
    "# R4openEO use case 1, machine learning UDF implementation"
   ]
  },
  {
   "cell_type": "markdown",
   "id": "eaa6236b-3842-4bd8-9ae0-2e953e13a1f9",
   "metadata": {},
   "source": [
    "## Author btufail@eurac.edu\n",
    "## Date 2022/09/28"
   ]
  },
  {
   "cell_type": "markdown",
   "id": "f342e8a4-4b93-4524-b96a-e496e648dd46",
   "metadata": {},
   "source": [
    "### Import libraries and packages"
   ]
  },
  {
   "cell_type": "code",
   "execution_count": 2,
   "id": "304d74fd-759b-46bd-9437-8a4c7c948fd3",
   "metadata": {},
   "outputs": [],
   "source": [
    "from eo_utils import *"
   ]
  },
  {
   "cell_type": "markdown",
   "id": "6993df27-8821-4769-873b-846de2fb0405",
   "metadata": {},
   "source": [
    "### Connect and Login"
   ]
  },
  {
   "cell_type": "code",
   "execution_count": 34,
   "id": "1e43a9e5-c2e9-42cb-9e8c-fdacefa8d1e4",
   "metadata": {},
   "outputs": [
    {
     "name": "stdout",
     "output_type": "stream",
     "text": [
      "Authenticated using refresh token.\n"
     ]
    }
   ],
   "source": [
    "openeoHost = \"https://openeo.eurac.edu\"\n",
    "conn = openeo.connect(openeoHost).authenticate_oidc(client_id=\"openEO_PKCE\")"
   ]
  },
  {
   "cell_type": "markdown",
   "id": "5e93e7b0-22af-4a0b-9d5a-93f40ecfa158",
   "metadata": {},
   "source": [
    "### Discover the available collections:"
   ]
  },
  {
   "cell_type": "code",
   "execution_count": null,
   "id": "8dcff39d-0158-4409-9421-b11a02611441",
   "metadata": {},
   "outputs": [],
   "source": [
    "conn.list_collections()"
   ]
  },
  {
   "cell_type": "markdown",
   "id": "9ebb25d1-bac4-4248-9c59-e5709cdd3e53",
   "metadata": {},
   "source": [
    "### Discover the available processes:"
   ]
  },
  {
   "cell_type": "code",
   "execution_count": null,
   "id": "3c15fc07-b28a-40c6-9926-c3a261d0d5d2",
   "metadata": {},
   "outputs": [],
   "source": [
    "conn.list_processes()"
   ]
  },
  {
   "cell_type": "markdown",
   "id": "5e1a1af8-2b0a-4705-be1d-e51c24541f4c",
   "metadata": {},
   "source": [
    "### Select the AOI\n",
    "#### Use the rectangle selection tool to select the area of interest"
   ]
  },
  {
   "cell_type": "code",
   "execution_count": 38,
   "id": "ee9289ab-76e2-44b0-9912-e9eabede2e7a",
   "metadata": {},
   "outputs": [
    {
     "data": {
      "application/vnd.jupyter.widget-view+json": {
       "model_id": "07208c05f05b4ff08e51e28a9e6b0a5b",
       "version_major": 2,
       "version_minor": 0
      },
      "text/plain": [
       "Map(center=[46.62, 10.95], controls=(ZoomControl(options=['position', 'zoom_in_text', 'zoom_in_title', 'zoom_o…"
      ]
     },
     "metadata": {},
     "output_type": "display_data"
    }
   ],
   "source": [
    "center = [46.62, 10.95]\n",
    "zoom = 15\n",
    "\n",
    "eoMap = openeoMap(center,zoom)\n",
    "eoMap.map"
   ]
  },
  {
   "cell_type": "code",
   "execution_count": 39,
   "id": "2d9aaa54-0303-42ee-8a62-58dc624d73e9",
   "metadata": {},
   "outputs": [
    {
     "name": "stdout",
     "output_type": "stream",
     "text": [
      "Coordinates selected from map: \n",
      " west 10.904660224914553 \n",
      " east 10.965557098388674 \n",
      " south 46.62798526273379 \n",
      " north 46.639772524468164\n"
     ]
    }
   ],
   "source": [
    "bbox = eoMap.getBbox()\n",
    "print(\"Coordinates selected from map:\",'\\n west',bbox[0],'\\n east',bbox[2],'\\n south',bbox[1],'\\n north',bbox[3])"
   ]
  },
  {
   "cell_type": "code",
   "execution_count": 40,
   "id": "7a748946-ea6c-4e12-9f9a-c8a4cef0859d",
   "metadata": {},
   "outputs": [],
   "source": [
    "spatial_extent  = {'west':bbox[0],'east':bbox[2],'south':bbox[1],'north':bbox[3]}"
   ]
  },
  {
   "cell_type": "markdown",
   "id": "965970e2-fd05-4c89-ae6e-32601a688be8",
   "metadata": {},
   "source": [
    "### Load data"
   ]
  },
  {
   "cell_type": "code",
   "execution_count": 41,
   "id": "4d95aea2-f72c-4bcb-92ca-c60504a2e630",
   "metadata": {},
   "outputs": [
    {
     "name": "stdout",
     "output_type": "stream",
     "text": [
      "Authenticated using refresh token.\n"
     ]
    }
   ],
   "source": [
    "conn = openeo.connect(openeoHost).authenticate_oidc(client_id=\"openEO_PKCE\")\n",
    "\n",
    "collection      = 'S2_L2A_ALPS'\n",
    "temporal_extent = [\"2020-07-01T00:00:00Z\", \"2020-09-01T00:00:00Z\"]\n",
    "bands = [\"B02\",\"B03\",\"B04\",\"B08\"]\n",
    "\n",
    "S2_data = conn.load_collection(collection,spatial_extent=spatial_extent,temporal_extent=temporal_extent, bands=bands)"
   ]
  },
  {
   "cell_type": "code",
   "execution_count": 43,
   "id": "8d1c490e-1f8d-4de1-8cf7-fa4d6e3b3a62",
   "metadata": {},
   "outputs": [],
   "source": [
    "S2_data_median = S2_data.reduce_dimension(reducer=median,dimension='DATE')"
   ]
  },
  {
   "cell_type": "markdown",
   "id": "dc50cf69-657c-4bb5-b98d-d0e67b8bee26",
   "metadata": {
    "tags": []
   },
   "source": [
    "### Running reduce dimension UDF"
   ]
  },
  {
   "cell_type": "code",
   "execution_count": 44,
   "id": "318b8e79-b382-452a-8824-743f5813f5ec",
   "metadata": {},
   "outputs": [],
   "source": [
    "udf_reducer = lambda data: data.run_udf(udf=\"https://raw.githubusercontent.com/Open-EO/r4openeo-usecases/main/uc1-ml-landcover/udfs/reduce_udf_chunk.R\", runtime=\"R\")"
   ]
  },
  {
   "cell_type": "code",
   "execution_count": 45,
   "id": "17adae96-a46f-48f5-90c1-9ac25edace78",
   "metadata": {},
   "outputs": [],
   "source": [
    "udf_result = S2_data_median.reduce_dimension(reducer=udf_reducer,dimension='bands')"
   ]
  },
  {
   "cell_type": "markdown",
   "id": "d0ca2829-d793-4bc0-a76c-3023b5ce846c",
   "metadata": {},
   "source": [
    "### Running graph and saving results"
   ]
  },
  {
   "cell_type": "code",
   "execution_count": 46,
   "id": "66560885-7384-4268-9a87-8024bfad00df",
   "metadata": {},
   "outputs": [],
   "source": [
    "result = udf_result.save_result(format='GTIFF')"
   ]
  },
  {
   "cell_type": "code",
   "execution_count": 47,
   "id": "d98a3044-3948-4386-9cb9-f6f13af7917e",
   "metadata": {},
   "outputs": [
    {
     "name": "stdout",
     "output_type": "stream",
     "text": [
      "Batch job created with id:  d514ba96-4732-456e-a00a-5a5af6c8bf0b\n"
     ]
    }
   ],
   "source": [
    "job = conn.create_job(result,title=\"whatever1\")\n",
    "job_id = job.job_id\n",
    "if job_id:\n",
    "    print(\"Batch job created with id: \",job_id)\n",
    "    job.start_job()\n",
    "else:\n",
    "    print(\"Error! Job ID is None\")"
   ]
  },
  {
   "cell_type": "code",
   "execution_count": 48,
   "id": "33e6712e-7a86-42c6-8199-688db268cd41",
   "metadata": {},
   "outputs": [
    {
     "data": {
      "text/plain": [
       "[PosixPath('/home/btufail@eurac.edu/Documents/SInCohMap/result.tiff'),\n",
       " PosixPath('/home/btufail@eurac.edu/Documents/SInCohMap/process.json')]"
      ]
     },
     "execution_count": 48,
     "metadata": {},
     "output_type": "execute_result"
    }
   ],
   "source": [
    "ST_S2_rgb_mask = job.get_results()\n",
    "ST_S2_rgb_mask.download_files()"
   ]
  }
 ],
 "metadata": {
  "kernelspec": {
   "display_name": "sincohmap",
   "language": "python",
   "name": "sincohmap"
  },
  "language_info": {
   "codemirror_mode": {
    "name": "ipython",
    "version": 3
   },
   "file_extension": ".py",
   "mimetype": "text/x-python",
   "name": "python",
   "nbconvert_exporter": "python",
   "pygments_lexer": "ipython3",
   "version": "3.7.12"
  }
 },
 "nbformat": 4,
 "nbformat_minor": 5
}
