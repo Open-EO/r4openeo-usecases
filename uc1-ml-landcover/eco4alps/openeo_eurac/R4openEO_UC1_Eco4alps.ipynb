{
 "cells": [
  {
   "cell_type": "markdown",
   "id": "641a1bc7-e471-413c-8c71-32defad38be6",
   "metadata": {},
   "source": [
    "# R4openEO use case 1, machine learning UDF implementation using Eco4alps training data"
   ]
  },
  {
   "cell_type": "markdown",
   "id": "eaa6236b-3842-4bd8-9ae0-2e953e13a1f9",
   "metadata": {},
   "source": [
    "## Author btufail@eurac.edu\n",
    "## Date 2022/11/10"
   ]
  },
  {
   "cell_type": "markdown",
   "id": "f342e8a4-4b93-4524-b96a-e496e648dd46",
   "metadata": {},
   "source": [
    "### Import libraries and packages"
   ]
  },
  {
   "cell_type": "code",
   "execution_count": 1,
   "id": "304d74fd-759b-46bd-9437-8a4c7c948fd3",
   "metadata": {},
   "outputs": [],
   "source": [
    "import openeo\n",
    "from openeo.processes import process\n",
    "from openeo.processes import eq\n",
    "from openeo.processes import quantiles, mean, min, median, sd"
   ]
  },
  {
   "cell_type": "markdown",
   "id": "6993df27-8821-4769-873b-846de2fb0405",
   "metadata": {},
   "source": [
    "### Connect and Login"
   ]
  },
  {
   "cell_type": "code",
   "execution_count": 2,
   "id": "1e43a9e5-c2e9-42cb-9e8c-fdacefa8d1e4",
   "metadata": {},
   "outputs": [
    {
     "name": "stdout",
     "output_type": "stream",
     "text": [
      "Authenticated using refresh token.\n"
     ]
    }
   ],
   "source": [
    "openeoHost = \"https://openeo.eurac.edu\"\n",
    "# Connect to the back-end\n",
    "connection = openeo.connect(\"https://openeo.eurac.edu\").authenticate_oidc(client_id=\"openEO_PKCE\")"
   ]
  },
  {
   "cell_type": "markdown",
   "id": "5e93e7b0-22af-4a0b-9d5a-93f40ecfa158",
   "metadata": {},
   "source": [
    "### Discover the available collections:"
   ]
  },
  {
   "cell_type": "code",
   "execution_count": null,
   "id": "8dcff39d-0158-4409-9421-b11a02611441",
   "metadata": {},
   "outputs": [],
   "source": [
    "connection.list_collections()"
   ]
  },
  {
   "cell_type": "markdown",
   "id": "9ebb25d1-bac4-4248-9c59-e5709cdd3e53",
   "metadata": {},
   "source": [
    "### Discover the available processes:"
   ]
  },
  {
   "cell_type": "code",
   "execution_count": null,
   "id": "3c15fc07-b28a-40c6-9926-c3a261d0d5d2",
   "metadata": {},
   "outputs": [],
   "source": [
    "connection.list_processes()"
   ]
  },
  {
   "cell_type": "markdown",
   "id": "965970e2-fd05-4c89-ae6e-32601a688be8",
   "metadata": {},
   "source": [
    "### Load data"
   ]
  },
  {
   "cell_type": "code",
   "execution_count": 3,
   "id": "4d95aea2-f72c-4bcb-92ca-c60504a2e630",
   "metadata": {},
   "outputs": [
    {
     "name": "stdout",
     "output_type": "stream",
     "text": [
      "Authenticated using refresh token.\n"
     ]
    }
   ],
   "source": [
    "connection = openeo.connect(openeoHost).authenticate_oidc(client_id=\"openEO_PKCE\")\n",
    "load1 = connection.load_collection(collection_id = \"S2_L2A_ALPS\",\n",
    "                                   spatial_extent = {\"east\": 11.371689015081296,\"south\": 46.44500631201319,\"north\": 46.52435165332716,\"west\": 11.253252336416189}, \n",
    "                                   temporal_extent = [\"2021-05-01T00:00:00Z\",\"2021-10-31T00:00:00Z\"],\n",
    "                                   bands = [\"B02\", \"B03\", \"B04\", \"B05\", \"B06\", \"B07\", \"B08\", \"B8A\", \"B11\", \"B12\", \"CLOUD_MASK\"],\n",
    "                                   properties = {})"
   ]
  },
  {
   "cell_type": "markdown",
   "id": "dd57e7dd-c1e0-4b9e-b345-6bdf26a169dc",
   "metadata": {},
   "source": [
    "### Masking"
   ]
  },
  {
   "cell_type": "code",
   "execution_count": 4,
   "id": "bab85019-542c-4eda-953c-98895199e510",
   "metadata": {},
   "outputs": [],
   "source": [
    "def reducer1(data, context):\n",
    "    arrayelement2 = process(\"array_element\", data = data, index = 0)\n",
    "    eq2 = process(\"eq\", x = arrayelement2, y = 1)\n",
    "    return eq2"
   ]
  },
  {
   "cell_type": "code",
   "execution_count": 5,
   "id": "791b2d40-62ba-4b5b-af4d-cd0ddb123b42",
   "metadata": {},
   "outputs": [],
   "source": [
    "zero_mask = load1.band('B04') == 0\n",
    "stack = load1.filter_bands([\"B02\", \"B03\", \"B04\", \"B05\", \"B06\", \"B07\", \"B08\", \"B8A\", \"B11\", \"B12\"]).mask(zero_mask)\n",
    "clmask = load1.process(\"filter_bands\", data = load1, bands = [\"CLOUD_MASK\"])"
   ]
  },
  {
   "cell_type": "code",
   "execution_count": 6,
   "id": "c3edcab9-b9a9-4d41-805a-71ea865e5aeb",
   "metadata": {},
   "outputs": [],
   "source": [
    "cloudmask = clmask.reduce_dimension(reducer = reducer1, dimension = \"bands\")\n",
    "load1 = stack.mask(cloudmask)"
   ]
  },
  {
   "cell_type": "markdown",
   "id": "c4edd066-8fff-4d0b-aa40-a83bb80415e4",
   "metadata": {},
   "source": [
    "### Feature generation"
   ]
  },
  {
   "cell_type": "code",
   "execution_count": 7,
   "id": "0e861fd8-b8d1-4b40-9d6c-0d5ddd2ebd7c",
   "metadata": {},
   "outputs": [],
   "source": [
    "def compute_features(cube,band_name):\n",
    "    def reducer1(data, context):\n",
    "        array1 = process(\"array_element\", data = data, label = band_name)\n",
    "        return array1\n",
    "    \n",
    "    cube_band = cube.reduce_dimension(reducer = reducer1, dimension = \"bands\")\n",
    "    \n",
    "    cube_quantiles = cube_band.apply_dimension(\n",
    "            process=lambda d: quantiles(d, [0.1, 0.25, 0.5, 0.75, 0.9]),\n",
    "            dimension=\"DATE\",\n",
    "            target_dimension=\"variable\"\n",
    "        )\n",
    "    \n",
    "    cube_quantiles.metadata = cube_quantiles.metadata.add_dimension(\"bands\", \"bands\")\n",
    "    cube_quantiles_renamed = cube_quantiles.rename_labels(dimension='bands',target=[band_name + '_Q10',band_name + '_Q25',band_name + '_Q50',band_name + '_Q75',band_name + '_Q90'])\n",
    "    \n",
    "    cube_band_mean_time = cube_band.reduce_dimension(reducer=mean,dimension='DATE')\n",
    "    cube_band_mean_time = cube_band_mean_time.add_dimension(name='bands',label=band_name + '_AVG')\n",
    "    \n",
    "    cube_band_median_time = cube_band.reduce_dimension(reducer=median,dimension='DATE')\n",
    "    cube_band_median_time = cube_band_median_time.add_dimension(name='bands',label=band_name + '_MED')\n",
    "\n",
    "    cube_band_min_time = cube_band.reduce_dimension(reducer=min,dimension='DATE')\n",
    "    cube_band_min_time = cube_band_min_time.add_dimension(name='bands',label=band_name + '_MIN')\n",
    "\n",
    "    cube_band_std_time = cube_band.reduce_dimension(reducer=sd,dimension='DATE')\n",
    "    cube_band_std_time = cube_band_std_time.add_dimension(name='bands',label=band_name + '_STD')\n",
    "    \n",
    "    def reducer4(data, context):\n",
    "        bgqa0sh1p = process(\"array_element\", data = data, label = band_name + \"_Q25\")\n",
    "        gsuv3t22h = process(\"array_element\", data = data, label = band_name + \"_Q75\")\n",
    "        r3f7c22u9 = process(\"subtract\", x = gsuv3t22h, y = bgqa0sh1p)\n",
    "        return r3f7c22u9\n",
    "    \n",
    "    inter_q_diff = cube_quantiles_renamed.reduce_dimension(reducer = reducer4, dimension = \"bands\")\n",
    "    inter_q_diff = inter_q_diff.add_dimension(name='bands',label=band_name + '_IQR')\n",
    "    \n",
    "    result_0 = inter_q_diff.merge_cubes(cube_quantiles_renamed).merge_cubes(cube_band_mean_time).merge_cubes(cube_band_median_time).merge_cubes(cube_band_min_time).merge_cubes(cube_band_std_time)\n",
    "    return result_0\n",
    "\n",
    "b02_cube = compute_features(load1,'B02')   \n",
    "b03_cube = compute_features(load1,'B03')\n",
    "b04_cube = compute_features(load1,'B04')\n",
    "b05_cube = compute_features(load1,'B05')\n",
    "b06_cube = compute_features(load1,'B06')\n",
    "b07_cube = compute_features(load1,'B07')\n",
    "b08_cube = compute_features(load1,'B08')\n",
    "b8A_cube = compute_features(load1,'B8A')\n",
    "b11_cube = compute_features(load1,'B11')\n",
    "b12_cube = compute_features(load1,'B12')\n",
    "result = b02_cube.merge_cubes(b03_cube).merge_cubes(b04_cube).merge_cubes(b05_cube).merge_cubes(b06_cube).merge_cubes(b07_cube).merge_cubes(b08_cube).merge_cubes(b8A_cube).merge_cubes(b11_cube).merge_cubes(b12_cube)"
   ]
  },
  {
   "cell_type": "markdown",
   "id": "dc50cf69-657c-4bb5-b98d-d0e67b8bee26",
   "metadata": {
    "tags": []
   },
   "source": [
    "### Running UDF through reduce dimension "
   ]
  },
  {
   "cell_type": "code",
   "execution_count": 8,
   "id": "318b8e79-b382-452a-8824-743f5813f5ec",
   "metadata": {},
   "outputs": [],
   "source": [
    "udf_reducer = lambda data: data.run_udf(udf=\"https://raw.githubusercontent.com/Open-EO/r4openeo-usecases/main/uc1-ml-landcover/eco4alps/udf/reduce_udf_eco4alps.R\", runtime=\"R\")\n",
    "udf_result = result.reduce_dimension(reducer=udf_reducer,dimension='bands')"
   ]
  },
  {
   "cell_type": "markdown",
   "id": "d0ca2829-d793-4bc0-a76c-3023b5ce846c",
   "metadata": {},
   "source": [
    "### Running graph and saving results"
   ]
  },
  {
   "cell_type": "code",
   "execution_count": 10,
   "id": "66560885-7384-4268-9a87-8024bfad00df",
   "metadata": {},
   "outputs": [],
   "source": [
    "result = udf_result.save_result(format='GTIFF')"
   ]
  },
  {
   "cell_type": "code",
   "execution_count": 8,
   "id": "f8eba18c-5ec2-4eeb-aafc-a56a2e2328fc",
   "metadata": {},
   "outputs": [],
   "source": [
    "result = result.save_result(format='NetCDF')"
   ]
  },
  {
   "cell_type": "code",
   "execution_count": 11,
   "id": "d98a3044-3948-4386-9cb9-f6f13af7917e",
   "metadata": {},
   "outputs": [
    {
     "name": "stdout",
     "output_type": "stream",
     "text": [
      "Batch job created with id:  6c5462b1-27c9-4847-80a2-ac1bad033fb0\n"
     ]
    }
   ],
   "source": [
    "job = connection.create_job(result,title=\"complete_udf_pg\")\n",
    "job_id = job.job_id\n",
    "if job_id:\n",
    "    print(\"Batch job created with id: \",job_id)\n",
    "    job.start_job()\n",
    "else:\n",
    "    print(\"Error! Job ID is None\")"
   ]
  },
  {
   "cell_type": "code",
   "execution_count": 48,
   "id": "33e6712e-7a86-42c6-8199-688db268cd41",
   "metadata": {},
   "outputs": [
    {
     "data": {
      "text/plain": [
       "[PosixPath('/home/btufail@eurac.edu/Documents/SInCohMap/result.tiff'),\n",
       " PosixPath('/home/btufail@eurac.edu/Documents/SInCohMap/process.json')]"
      ]
     },
     "execution_count": 48,
     "metadata": {},
     "output_type": "execute_result"
    }
   ],
   "source": [
    "ST_S2_rgb_mask = job.get_results()\n",
    "ST_S2_rgb_mask.download_files()"
   ]
  },
  {
   "cell_type": "code",
   "execution_count": null,
   "id": "d22ec816-48be-47f0-ab9d-35e0c7aefff1",
   "metadata": {},
   "outputs": [],
   "source": [
    "print(result.to_json())"
   ]
  }
 ],
 "metadata": {
  "kernelspec": {
   "display_name": "sincohmap",
   "language": "python",
   "name": "sincohmap"
  },
  "language_info": {
   "codemirror_mode": {
    "name": "ipython",
    "version": 3
   },
   "file_extension": ".py",
   "mimetype": "text/x-python",
   "name": "python",
   "nbconvert_exporter": "python",
   "pygments_lexer": "ipython3",
   "version": "3.7.12"
  }
 },
 "nbformat": 4,
 "nbformat_minor": 5
}
