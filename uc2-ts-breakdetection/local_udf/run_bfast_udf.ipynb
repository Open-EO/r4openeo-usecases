{
 "cells": [
  {
   "cell_type": "markdown",
   "id": "17320903-b625-4542-9d2b-bd42aaa41194",
   "metadata": {},
   "source": [
    "# This script is mimicking what the backend would be doing when running an UDF"
   ]
  },
  {
   "cell_type": "code",
   "execution_count": 7,
   "id": "87a4fb9b-0863-4630-a558-1d93143f9310",
   "metadata": {},
   "outputs": [
    {
     "data": {
      "text/plain": [
       "'/home/pzellner@eurac.edu/git_projects/r4openeo-usecases/uc2-ts-breakdetection/local_udf'"
      ]
     },
     "execution_count": 7,
     "metadata": {},
     "output_type": "execute_result"
    }
   ],
   "source": [
    "from os import getcwd\n",
    "getcwd()"
   ]
  },
  {
   "cell_type": "code",
   "execution_count": 17,
   "id": "2ce296be-3514-4d7a-b392-741b957a8bdf",
   "metadata": {},
   "outputs": [],
   "source": [
    "from openeo_r_udf.udf_lib import prepare_udf, execute_udf\n",
    "import time\n",
    "import xarray as xr"
   ]
  },
  {
   "cell_type": "code",
   "execution_count": 21,
   "id": "dfa3c9b3-b607-4bf4-9449-08422cf747ce",
   "metadata": {},
   "outputs": [],
   "source": [
    "# config\n",
    "load_file = \"../00_data_local/test.nc/openEO.nc\"\n",
    "udf_file = \"../00_udfs/bfast_udf.R\"\n",
    "save_file = \"./results/local_udf_test.tif\"\n",
    "dimension = \"t\"\n",
    "context = {'start_monitor': 2018}"
   ]
  },
  {
   "cell_type": "code",
   "execution_count": 25,
   "id": "696d6a95-abce-4ff4-b07d-f076bbb6a6bf",
   "metadata": {},
   "outputs": [],
   "source": [
    "# load and prepare data - depending on your data structure\n",
    "dataset = xr.open_dataset(load_file, engine = 'h5netcdf', decode_coords = 'all')"
   ]
  },
  {
   "cell_type": "code",
   "execution_count": 35,
   "id": "23a57733-3b18-4ebd-bea5-720f1bcc3ccf",
   "metadata": {},
   "outputs": [],
   "source": [
    "# define runer for udf\n",
    "def run(process, udf, data = None, dimension = None, context = None):\n",
    "    # Run UDF executor\n",
    "    t1 = time.time() # Start benchmark\n",
    "    print('start: ', udf) #t1\n",
    "    result = execute_udf(process, udf, data, dimension = dimension, context = context)\n",
    "    t2 = time.time() # End benchmark\n",
    "    print('end: ', udf) #t2\n",
    "\n",
    "    # Print result and benchmark\n",
    "    print('  Time elapsed: %s' % (t2 - t1))\n",
    "    #save_result(result, save_file)"
   ]
  },
  {
   "cell_type": "code",
   "execution_count": 40,
   "id": "4d5e86ad-9022-4789-8719-a86c52e15c44",
   "metadata": {},
   "outputs": [
    {
     "name": "stdout",
     "output_type": "stream",
     "text": [
      "reduce_dimension bfast\n",
      "start:  ../00_udfs/bfast_udf.R\n",
      "end:  ../00_udfs/bfast_udf.R\n",
      "  Time elapsed: 78.01328754425049\n"
     ]
    }
   ],
   "source": [
    "print('reduce_dimension bfast')\n",
    "run('reduce_dimension', udf_file, data = dataset, dimension = dimension, context = context)"
   ]
  },
  {
   "cell_type": "code",
   "execution_count": null,
   "id": "11229b96-04d9-40eb-86ba-cd6ce070f8b1",
   "metadata": {},
   "outputs": [],
   "source": []
  }
 ],
 "metadata": {
  "kernelspec": {
   "display_name": "Python [conda env:.conda-openeo-r-udf]",
   "language": "python",
   "name": "conda-env-.conda-openeo-r-udf-py"
  },
  "language_info": {
   "codemirror_mode": {
    "name": "ipython",
    "version": 3
   },
   "file_extension": ".py",
   "mimetype": "text/x-python",
   "name": "python",
   "nbconvert_exporter": "python",
   "pygments_lexer": "ipython3",
   "version": "3.7.12"
  }
 },
 "nbformat": 4,
 "nbformat_minor": 5
}
